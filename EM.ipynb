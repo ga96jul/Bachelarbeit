{
  "nbformat": 4,
  "nbformat_minor": 0,
  "metadata": {
    "colab": {
      "name": "EM.ipynb",
      "provenance": [],
      "authorship_tag": "ABX9TyNrdqYJOk1PSSb9lT63k6wY",
      "include_colab_link": true
    },
    "kernelspec": {
      "name": "python3",
      "display_name": "Python 3"
    }
  },
  "cells": [
    {
      "cell_type": "markdown",
      "metadata": {
        "id": "view-in-github",
        "colab_type": "text"
      },
      "source": [
        "<a href=\"https://colab.research.google.com/github/ga96jul/Bachelarbeit/blob/master/EM.ipynb\" target=\"_parent\"><img src=\"https://colab.research.google.com/assets/colab-badge.svg\" alt=\"Open In Colab\"/></a>"
      ]
    },
    {
      "cell_type": "code",
      "metadata": {
        "id": "EfLqRlM0ZZJv",
        "colab_type": "code",
        "colab": {}
      },
      "source": [
        "## EM Algorithm for K-QAM Estimation of parameters\n",
        "#  The code is seperated into two main functions, a K-means estimator to estimate initial parameters for our EM-Algorithm and the EM algo.\n",
        "#  Added to the normal k-means algorithm we have a constraint on being equidistant.\n",
        "#  Furthermore the EM algo is seperated into real and imag plane. So we dont look at the data over the 2D plane but seperately\n",
        "#  By observation of the data given to us we concluded that our data must come from a 64-QAM probabalistic amplitude shaping where most of the points aare send from\n",
        "#  constellation points close to center. We checked for our K numbers lower 64 which all performed worse than 64-QAM.\n",
        "\n",
        "# load packages and data\n",
        "import numpy as np\n",
        "import scipy.stats\n",
        "import matplotlib.pyplot as plt\n",
        "#import pdb;\n",
        "data = np.load('EM_data.npy')\n",
        "\n",
        "N = data.size"
      ],
      "execution_count": 0,
      "outputs": []
    },
    {
      "cell_type": "code",
      "metadata": {
        "id": "SDs2dwH-bziU",
        "colab_type": "code",
        "colab": {}
      },
      "source": [
        "def ask_cstll(M):\n",
        "    # returns an M-QAM constellation as an\n",
        "    # array of dimension Mx1\n",
        "    \n",
        "    X = np.arange(-M+1,M,2,dtype=int)\n",
        "    \n",
        "    X = X.reshape((1,X.size))\n",
        "    X = X/np.sqrt(np.mean(X**2))\n",
        "    \n",
        "    return X\n",
        "\n",
        "def qam_cstll(M):\n",
        "    # returns an M-QAM constellation as an\n",
        "    # array of dimension Mx1\n",
        "    if M == 128:\n",
        "        M_ask = int(np.sqrt(144))\n",
        "        tmp = ask_cstll(M_ask).reshape((M_ask,1))\n",
        "        tmp = tmp + 1j*tmp.T\n",
        "        X = tmp.flatten()\n",
        "        X = X/np.sqrt(np.mean(np.abs(X)**2))\n",
        "        for i in range(16):\n",
        "            idx = np.argmax(np.abs(X))\n",
        "            X = np.delete(X,idx)\n",
        "\n",
        "    else:\n",
        "        M_ask = int(np.sqrt(M))\n",
        "        tmp = ask_cstll(M_ask).reshape((M_ask,1))\n",
        "   \n",
        "        tmp = tmp + 1j*tmp.T\n",
        "        X = tmp.flatten()\n",
        "        X = X/np.sqrt(np.mean(np.abs(X)**2))\n",
        "    \n",
        "    return X"
      ],
      "execution_count": 0,
      "outputs": []
    },
    {
      "cell_type": "code",
      "metadata": {
        "id": "ET-vxrnhb0OC",
        "colab_type": "code",
        "colab": {}
      },
      "source": [
        "# k-means algorithm with only output values known\n",
        "# we choose a maximum value for the k-QAM\n",
        "# iteratively compute every valid M-QAM constellation to the maximum k\n",
        "# we choose the k that minimizes the uncertainty\n",
        "# constraint of equidistance of each point\n",
        "\n",
        "def k_means(y,k,iter):\n",
        "    # intialize k constellation points according to a M-QAM constellation\n",
        "    C = qam_cstll(k)\n",
        "\n",
        "    # scale the cstll by a constant to also get a good first initial cluster\n",
        "    max_idx = 0.5*np.max(abs(y))\n",
        "    C = max_idx * C\n",
        "\n",
        "    # init paras\n",
        "    N = y.size\n",
        "    iter_cnt = 0\n",
        "    C0 = C\n",
        "    K = C0.size\n",
        "    weight = 2\n",
        "    s_real = np.zeros((K,), dtype = float)\n",
        "    s_imag = np.zeros((K,), dtype = float)\n",
        "    s_real_cnt = np.zeros((K,), dtype = float)\n",
        "    s_imag_cnt = np.zeros((K,), dtype = float)\n",
        "    px_cnt = np.zeros((K,), dtype = float)\n",
        "    noise_cnt = np.zeros((K,), dtype = complex)\n",
        "    temp_C = np.zeros((K,), dtype = complex)  \n",
        "    temp_C_3D = np.zeros((K,), dtype = complex)\n",
        "\n",
        "    \n",
        "    while (iter_cnt < iter and conv_flag == 0):\n",
        "        # calculate euclidian distance\n",
        "        tmp = np.abs(y.reshape((N,1)) - C.reshape((1,K)))\n",
        "        # assign every data point a label\n",
        "        tmp_idx = np.argmin(tmp,axis=1)\n",
        "        # calculate change of constellation points\n",
        "        for j in range(K):\n",
        "            idx = (tmp_idx == j)\n",
        "            if np.sum(idx) > 0:\n",
        "                temp_C[j] = np.sum(y[idx])/np.sum(idx)\n",
        "                s_real[j] = temp_C[j].real/C[j].real\n",
        "                s_imag[j] = temp_C[j].imag/C[j].imag\n",
        "                px_cnt[j] = y[idx].size/N\n",
        "                noise_cnt[j] = np.var((y[idx].real-temp_C[j].real)) + 1j* np.var((y[idx].imag-temp_C[j].imag))\n",
        "                \n",
        "\n",
        "                \n",
        "        # calculate a constant the points spread out to keep equidistant constraint\n",
        "        const_real = 0\n",
        "        const_imag = 0\n",
        "        \n",
        "        for j in range(K):\n",
        "            const_real = const_real + s_real[j]\n",
        "            const_imag = const_imag + s_imag[j]\n",
        "\n",
        "        \n",
        "        #if const_real == 1.0 and const_imag == 1.0:\n",
        "        #    conv_flag = 1\n",
        "        # add some weighting because of uneven distribution -> many points will be estimated in the center -> shifts scaling closer to the center\n",
        "        const_real = const_real/(np.sum(1-weight*px_cnt))\n",
        "        const_imag = const_imag/(np.sum(1-weight*px_cnt))\n",
        "        #pdb.set_trace()\n",
        "        #constant = const_imag + 1j * const_real\n",
        "        C = const_real*C.real + 1j * const_imag*C.imag\n",
        "        #C = temp_C\n",
        "        #C = constant * C\n",
        "        \n",
        "        #pdb.set_trace()\n",
        "        iter_cnt = iter_cnt + 1\n",
        "\n",
        "\n",
        "\n",
        "    data_out = {'C':C,'N_real':const_real,'N_imag':const_imag, 'px':px_cnt, 'N':noise_cnt}\n",
        "    return data_out\n",
        "\n",
        "\n"
      ],
      "execution_count": 0,
      "outputs": []
    },
    {
      "cell_type": "code",
      "metadata": {
        "id": "XyxK2DOeb5fs",
        "colab_type": "code",
        "colab": {}
      },
      "source": [
        "# The EM algorithm does not differ much in the standard procedure. We figured that it would be easier to do seperate calculations for the real and imag part of the points.\n",
        "# 5 paras like normal: We feed in the data, the constellation points, distribution and noise we got from the k-means algorithm\n",
        "\n",
        "def em(data, C, px_in, sigma2_in, iter):\n",
        "\n",
        "    K = 64\n",
        "    N = data.size\n",
        "    px_out = px_in.reshape((1,px_in.size))\n",
        "    x_out = C.reshape((1,C.size))\n",
        "    sigma2_out = sigma2_in\n",
        "    \n",
        "    data = data.reshape((N,1))\n",
        "    C0 = C\n",
        "    it_cnt = 0\n",
        "    while it_cnt < iter:\n",
        "\n",
        "        # E-Step: calculate the posterior distributions\n",
        "\n",
        "        #pdb.set_trace()\n",
        "\n",
        "        #divide imag and real part\n",
        "        tmp_real =  scipy.stats.norm.pdf(data.real,x_out.real,np.sqrt(sigma2_out.real)) * px_out\n",
        "        tmp_imag =  scipy.stats.norm.pdf(data.imag,x_out.imag,np.sqrt(sigma2_out.imag)) * px_out\n",
        "        q_xy_real =  tmp_real / np.sum(tmp_real,axis=1).reshape(-1,1)\n",
        "        q_xy_imag = tmp_imag / np.sum(tmp_imag,axis=1).reshape(-1,1) \n",
        "\n",
        "        \n",
        "        # M-step:\n",
        "\n",
        "        px_out_real = np.sum(q_xy_real,axis = 0)/N\n",
        "        px_out_imag = np.sum(q_xy_imag,axis = 0)/N\n",
        "        px = (px_out_real + px_out_imag)/2\n",
        "        Delta_real = np.sum(np.sum(q_xy_real * x_out.real * data.real)) / np.sum(np.sum(q_xy_real * x_out.real**2))\n",
        "        Delta_imag = np.sum(np.sum(q_xy_imag * x_out.imag * data.imag)) / np.sum(np.sum(q_xy_imag * x_out.imag**2))\n",
        "        x_out = Delta_real*C0.real + Delta_imag*C0.imag * 1j\n",
        "        sigma2_out_real = np.sum(np.sum(q_xy_real * (data.real-x_out.real)**2))/N  \n",
        "        sigma2_out_imag = np.sum(np.sum(q_xy_imag * (data.imag-x_out.imag)**2))/N\n",
        "\n",
        "        \n",
        "        sigma2 = sigma2_out_real + 1j*sigma2_out_imag\n",
        "        Delta = Delta_real + 1j*Delta_imag\n",
        "\n",
        "        it_cnt = it_cnt + 1\n",
        "\n",
        "  \n",
        "    data_out = {'x':x_out,'sigma2':sigma2_out,'px':px_out,'Delta':Delta}\n",
        "    \n",
        "    return data_out\n"
      ],
      "execution_count": 0,
      "outputs": []
    },
    {
      "cell_type": "code",
      "metadata": {
        "id": "gqK5hu4NdJJx",
        "colab_type": "code",
        "colab": {
          "base_uri": "https://localhost:8080/",
          "height": 265
        },
        "outputId": "6b25babb-5315-40d8-dc0f-d9b14297be6a"
      },
      "source": [
        "# run the k-means algorithm with scatterplot of the data over the estimated constellation points\n",
        "K = 64\n",
        "data_out = k_means(data,K,1000)\n",
        "C_1 = data_out['C']\n",
        "plt.scatter(data.real,data.imag)\n",
        "plt.scatter(C_1.real,C_1.imag)\n",
        "plt.gca().set_aspect('equal', adjustable='box')\n",
        "plt.grid()\n",
        "plt.draw()"
      ],
      "execution_count": 43,
      "outputs": [
        {
          "output_type": "display_data",
          "data": {
            "image/png": "[encoded data removed]",
            "text/plain": [
              "<Figure size 432x288 with 1 Axes>"
            ]
          },
          "metadata": {
            "tags": []
          }
        }
      ]
    },
    {
      "cell_type": "code",
      "metadata": {
        "id": "M-A1YsmZb74R",
        "colab_type": "code",
        "colab": {}
      },
      "source": [
        "# init initial parameters for EM\n",
        "pC_new = qam_cstll(K)\n",
        "delta = C_1.real[0]/pC_new[0].real\n",
        "noise = data_out['N'].real + 1j*data_out['N'].imag\n",
        "px = data_out['px']\n",
        "# start EM Algo\n",
        "data_out_2 = em(data,C_1,px,noise,1000)\n",
        "\n",
        "\n",
        "\n",
        "\n",
        "\n",
        "\n"
      ],
      "execution_count": 0,
      "outputs": []
    },
    {
      "cell_type": "code",
      "metadata": {
        "id": "ue3HnS5yb_WQ",
        "colab_type": "code",
        "colab": {
          "base_uri": "https://localhost:8080/",
          "height": 269
        },
        "outputId": "7796df20-24b8-4b59-f2cd-ac6db55026b9"
      },
      "source": [
        "#data_out = k_means(data,36,1000)\n",
        "C_2 = data_out_2['x']\n",
        "plt.scatter(data.real,data.imag)\n",
        "#plt.scatter(pC.real,pC.imag)\n",
        "plt.scatter(C_2.real,C_2.imag)\n",
        "plt.gca().set_aspect('equal', adjustable='box')\n",
        "plt.xlim(-10, 10)\n",
        "plt.ylim(-10, 10)\n",
        "plt.grid()\n",
        "plt.draw()"
      ],
      "execution_count": 45,
      "outputs": [
        {
          "output_type": "display_data",
          "data": {
            "image/png": "[encoded data removed]",
            "text/plain": [
              "<Figure size 432x288 with 1 Axes>"
            ]
          },
          "metadata": {
            "tags": []
          }
        }
      ]
    },
    {
      "cell_type": "code",
      "metadata": {
        "id": "HeskXW9Ov6C4",
        "colab_type": "code",
        "colab": {}
      },
      "source": [
        ""
      ],
      "execution_count": 0,
      "outputs": []
    }
  ]
}